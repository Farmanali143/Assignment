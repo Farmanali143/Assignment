{
 "cells": [
  {
   "cell_type": "code",
   "execution_count": null,
   "id": "12e45560-90af-40f8-98e5-9c0699493749",
   "metadata": {},
   "outputs": [],
   "source": [
    "Q1. Who developed Python Programming Language?\n",
    "Ans. Guido van Rossum developed Phython Programming Language."
   ]
  },
  {
   "cell_type": "code",
   "execution_count": null,
   "id": "397196c4-06e0-4f78-a725-3fc704b67221",
   "metadata": {},
   "outputs": [],
   "source": [
    "Q2. Which type of Programming does Python support?\n",
    "Ans.Python supports Object-oriented, Structured, and Functional programming."
   ]
  },
  {
   "cell_type": "code",
   "execution_count": null,
   "id": "23bbce37-8914-4f9c-be79-c9b00bd70733",
   "metadata": {},
   "outputs": [],
   "source": [
    "Q3. Is Python case sensitive when dealing with identifiers?\n",
    "Ans.Yes, Python is case sensitive when dealing with identifiers. "
   ]
  },
  {
   "cell_type": "code",
   "execution_count": null,
   "id": "62455aaf-4c6d-44fc-8a0f-4ec8a5601332",
   "metadata": {},
   "outputs": [],
   "source": [
    "Q4. What is the correct extension of the Python file?\n",
    "Ans.The correct exention of the Python file is \".py\"."
   ]
  },
  {
   "cell_type": "code",
   "execution_count": null,
   "id": "1d66b9bc-c123-472a-879e-4b878b9ed8c7",
   "metadata": {},
   "outputs": [],
   "source": [
    "Q5. Is Python code compiled or interpreted?\n",
    "Ans.Pyhton code is an interpreted language."
   ]
  },
  {
   "cell_type": "code",
   "execution_count": null,
   "id": "9f2b9592-8f7b-4958-a60c-e069b1a5e810",
   "metadata": {},
   "outputs": [],
   "source": [
    "Q6. Name a few blocks of code used to define in Python language?\n",
    "Ans.Indentation is used to define a block of code in python."
   ]
  },
  {
   "cell_type": "code",
   "execution_count": null,
   "id": "9468fef3-b7bf-42d6-b98a-cb399f12268f",
   "metadata": {},
   "outputs": [],
   "source": [
    "Q7. State a character used to give single-line comments in Python?\n",
    "Ans. \"#\" is a character used to give single-line comments in Python."
   ]
  },
  {
   "cell_type": "code",
   "execution_count": null,
   "id": "f46cf03d-075c-4e50-82c6-118db75a0d5e",
   "metadata": {},
   "outputs": [],
   "source": [
    "Q8. Mention functions which can help us to find the version of python that we are currently working on?\n",
    "Ans. \"sys.version\" is the function which can help us to find the version of python \n",
    "that you are currently working on."
   ]
  },
  {
   "cell_type": "code",
   "execution_count": null,
   "id": "5a1cdb24-d1d9-427e-86f5-3d258b1a2217",
   "metadata": {},
   "outputs": [],
   "source": [
    "Q9. Python supports the creation of anonymous functions at runtime , using a construct called -----\n",
    "Ans. \"lambda\""
   ]
  },
  {
   "cell_type": "code",
   "execution_count": null,
   "id": "5a35d636-3329-4c0c-9310-a2da5f83e291",
   "metadata": {},
   "outputs": [],
   "source": [
    "Q10. What does pip stand for python?\n",
    "Ans. PIP stands for \"PIP Installs Packages\""
   ]
  },
  {
   "cell_type": "code",
   "execution_count": null,
   "id": "577358fd-8ad4-49d2-9bb6-3df6d10868f9",
   "metadata": {},
   "outputs": [],
   "source": [
    "Q11. Mention a few build-in functions in python?\n",
    "A11. Following are the few build-in functions in python:\n",
    "    input(), str(), tuple(), type(), list(), print()."
   ]
  },
  {
   "cell_type": "code",
   "execution_count": null,
   "id": "bdb9032e-8ce9-4311-9461-e0ca75b3ae2f",
   "metadata": {},
   "outputs": [],
   "source": [
    "Q12. What is the maximum possible length of an indentifier in Python?\n",
    "Ans. 79 characters."
   ]
  },
  {
   "cell_type": "code",
   "execution_count": null,
   "id": "2e535224-0c39-4f6e-b02a-9322794b1e9e",
   "metadata": {},
   "outputs": [],
   "source": [
    "Q13. What are the benefits of using Python?\n",
    "Ans. Following are the benefits of using Python:\n",
    "    1. Presence of third-party modules \n",
    "    2. Extensive support libraries(NumPy for numerical calculations, Pandas for data analytics, etc.) \n",
    "    3. Open source and large active community base \n",
    "    4. Versatile, Easy to read, learn and write\n",
    "    5. User-friendly data structures \n",
    "    6. High-level language \n",
    "    7.Dynamically typed language(No need to mention data type based on the value assigned, it takes data type) \n",
    "    8.Object-Oriented and Procedural  Programming language\n",
    "    9.Portable and Interactive\n",
    "    10.Ideal for prototypes – provide more functionality with less coding\n",
    "    11.Highly Efficient(Python’s clean object-oriented design provides enhanced process control,\n",
    "      and the language is equipped with excellent text processing and integration capabilities,\n",
    "      as well as its own unit testing framework, which makes it more efficient.)\n",
    "    12.Internet of Things(IoT) Opportunities\n",
    "    13.Interpreted Language\n",
    "    14.Portable across Operating systems "
   ]
  },
  {
   "cell_type": "code",
   "execution_count": null,
   "id": "83b3d974-4f16-4211-afa4-24668c006f79",
   "metadata": {},
   "outputs": [],
   "source": [
    "Q14. How is memory managed in Python?\n",
    "Ans. Python uses automatic memory management, which means the Python memory manager automatically \n",
    "handles memory allocation and deallocation. The memory manager uses a reference counting system to \n",
    "track the number of references to objects in memory, and frees the memory occupied by an object \n",
    "when its reference count reaches zero. Additionally, Python has a garbage collector that periodically \n",
    "frees up memory occupied by objects that are no longer being used. This ensures that Python programs \n",
    "are able to efficiently use memory without the need for manual memory management.\n",
    "\n"
   ]
  },
  {
   "cell_type": "code",
   "execution_count": null,
   "id": "ca511f5b-a975-48ee-b2a3-00350643c449",
   "metadata": {},
   "outputs": [],
   "source": [
    "Q15. How to install Python on Windows and set path variables?\n",
    "Ans. Following are the steps to install Python on Windows and set path variables:\n",
    "     1. Download the latest version of Python from the official website (https://www.python.org/downloads/).\n",
    "     2. Run the installer and follow the instructions to install Python on your system.\n",
    "     3. Open the \"Environment Variables\" dialog by typing \"Environment Variables\" into the Windows \n",
    "        search bar and clicking on \"Edit the system environment variables.\"\n",
    "     4. Under \"System Variables,\" scroll down and find the \"Path\" variable, then click \"Edit.\"\n",
    "     5. Click \"New\" and add the path to your Python installation. For example, if you installed \n",
    "        Python in the default location, the path would be \"C:\\PythonXX,\" where \"XX\" is the version number.\n",
    "     6. Click \"OK\" to close all the dialog boxes.\n",
    "     7. Open a new command prompt and type \"python\" to confirm that the installation was successful \n",
    "        and that the path variables are set correctly.\n",
    "     Note: It may need to restart any open command prompts for the changes to take effect."
   ]
  },
  {
   "cell_type": "code",
   "execution_count": null,
   "id": "0ee48fdb-73b5-4f1b-ad0f-256d1bdb8be0",
   "metadata": {},
   "outputs": [],
   "source": [
    "Q16. Is indentation required in python?\n",
    "Ans. Yes indentation is required in python."
   ]
  }
 ],
 "metadata": {
  "kernelspec": {
   "display_name": "Python 3 (ipykernel)",
   "language": "python",
   "name": "python3"
  },
  "language_info": {
   "codemirror_mode": {
    "name": "ipython",
    "version": 3
   },
   "file_extension": ".py",
   "mimetype": "text/x-python",
   "name": "python",
   "nbconvert_exporter": "python",
   "pygments_lexer": "ipython3",
   "version": "3.10.8"
  }
 },
 "nbformat": 4,
 "nbformat_minor": 5
}
